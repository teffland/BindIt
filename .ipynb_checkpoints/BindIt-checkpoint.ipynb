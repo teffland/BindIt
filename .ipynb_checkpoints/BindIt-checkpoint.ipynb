{
 "cells": [
  {
   "cell_type": "code",
   "execution_count": 9,
   "metadata": {
    "collapsed": false
   },
   "outputs": [],
   "source": [
    "# Generate Regular Experessions\n",
    "def gen_regexs(sequence, permute=False):\n",
    "    \"\"\"Take a simple list of sequences representing the laymen way to write a regular expression.\n",
    "    \n",
    "    Sequences are of the format: [nucleotide sequence, maximum gap length, nucleodtide sequence, max gap length, ...]\n",
    "        \n",
    "        eg, ['TCTG', 4, 'CAGA']\n",
    "    \n",
    "    This simple way of wtriting a potential sequence will be translated to the appropriate regular expression.\n",
    "    \n",
    "        eg, 'TCTG{1}[AGTC]{0,4}CAGA{1}'\n",
    "        \n",
    "    \n",
    "    Permutations are whether we should generate a regular expression for each possible regular expression\n",
    "    that is one edit-distance from the provided sequence.\n",
    "    \"\"\"\n",
    "    nucs = set(['A','C','G','T'])\n",
    "    wildcard = \"[ACGT]\"\n",
    "    reglist = []\n",
    "    if permute:\n",
    "        pass\n",
    "        \"\"\"\n",
    "        n = len([s for s in sequence if type(s)==str]) # number of letters in total sequence\n",
    "        for i in range(n):\n",
    "            reg = ''\n",
    "            for s in sequence:\n",
    "                if type(s) == str:\n",
    "                    reg += s+'{1}'\n",
    "                if type(s) == int:\n",
    "                    reg += wildcard+'{0,'+str(s)+'}'\n",
    "            # loop over the regex, checking for the right spot to insert a wildcard\n",
    "            j = 0        \n",
    "            for c in reg:\n",
    "                if c in nucs:\n",
    "                    if i == j:\n",
    "                        c = wildcard+'{1}'\n",
    "                        break\n",
    "                    j += 1\n",
    "            reglist.append(reg)\n",
    "        \"\"\"         \n",
    "    else:\n",
    "        reg = ''\n",
    "        for s in sequence:\n",
    "            if type(s) == str:\n",
    "                reg += s+'{1}'\n",
    "            if type(s) == int:\n",
    "                reg += wildcard+'{0,'+str(s)+'}'\n",
    "        reglist.append(reg)\n",
    "    return reglist\n",
    "                "
   ]
  },
  {
   "cell_type": "code",
   "execution_count": 50,
   "metadata": {
    "collapsed": false
   },
   "outputs": [],
   "source": [
    "# test gen_regexs\n",
    "sample = ['TCTG', 4, 'CAGA']\n",
    "regs = gen_regexs(sample)"
   ]
  },
  {
   "cell_type": "code",
   "execution_count": 55,
   "metadata": {
    "collapsed": false
   },
   "outputs": [],
   "source": [
    "import docx\n",
    "import re"
   ]
  },
  {
   "cell_type": "code",
   "execution_count": 67,
   "metadata": {
    "collapsed": false
   },
   "outputs": [],
   "source": [
    "doc = docx.Document('tgfb1.docx')\n",
    "data = ''.join([p.text for p in doc.paragraphs])\n",
    "#print data\n",
    "#print regs\n",
    "for reg in regs:\n",
    "    split = zip(re.split(reg,data), re.findall(reg, data))\n",
    "#print split"
   ]
  },
  {
   "cell_type": "code",
   "execution_count": 68,
   "metadata": {
    "collapsed": false
   },
   "outputs": [],
   "source": [
    "scanned = docx.Document()\n",
    "p = scanned.add_paragraph('')\n",
    "for bad,good in split:\n",
    "    # the inbetween sequences\n",
    "    run = p.add_run(bad)\n",
    "    run.font.name = \"Courier New\"\n",
    "    run.font.size = docx.shared.Pt(10)\n",
    "    # the tagged sequences\n",
    "    run = p.add_run(good)\n",
    "    run.bold = True\n",
    "    run.font.name = \"Courier New\"\n",
    "    run.font.size = docx.shared.Pt(14)\n",
    "scanned.save('test.docx')"
   ]
  },
  {
   "cell_type": "code",
   "execution_count": 16,
   "metadata": {
    "collapsed": true
   },
   "outputs": [],
   "source": [
    "import pyensembl"
   ]
  },
  {
   "cell_type": "code",
   "execution_count": 17,
   "metadata": {
    "collapsed": true
   },
   "outputs": [],
   "source": [
    "data = pyensembl.EnsemblRelease()"
   ]
  },
  {
   "cell_type": "code",
   "execution_count": 20,
   "metadata": {
    "collapsed": false
   },
   "outputs": [],
   "source": [
    "g = data.genes_by_name('TGFB1')"
   ]
  },
  {
   "cell_type": "code",
   "execution_count": 29,
   "metadata": {
    "collapsed": false
   },
   "outputs": [
    {
     "name": "stdout",
     "output_type": "stream",
     "text": [
      "{'end': 41353911, 'name': u'TGFB1', 'db': <pyensembl.database.Database object at 0x10f2ba8d0>, 'start': 41301587, 'biotype': u'protein_coding', 'ensembl': EnsemblRelease(release=79, species=homo_sapiens, genome=GRCh38), 'contig': u'19', 'id': 'ENSG00000105329', 'strand': u'-'}\n"
     ]
    }
   ],
   "source": [
    "print g[0].__dict__"
   ]
  },
  {
   "cell_type": "code",
   "execution_count": null,
   "metadata": {
    "collapsed": true
   },
   "outputs": [],
   "source": []
  }
 ],
 "metadata": {
  "kernelspec": {
   "display_name": "Python 2",
   "language": "python",
   "name": "python2"
  },
  "language_info": {
   "codemirror_mode": {
    "name": "ipython",
    "version": 2
   },
   "file_extension": ".py",
   "mimetype": "text/x-python",
   "name": "python",
   "nbconvert_exporter": "python",
   "pygments_lexer": "ipython2",
   "version": "2.7.5"
  }
 },
 "nbformat": 4,
 "nbformat_minor": 0
}
